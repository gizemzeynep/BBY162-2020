{
  "nbformat": 4,
  "nbformat_minor": 0,
  "metadata": {
    "colab": {
      "name": "adamasmacadenemesi1.ipynb",
      "provenance": [],
      "authorship_tag": "ABX9TyOFz/wc8oQtXAUzteXVtVRy",
      "include_colab_link": true
    },
    "kernelspec": {
      "name": "python3",
      "display_name": "Python 3"
    }
  },
  "cells": [
    {
      "cell_type": "markdown",
      "metadata": {
        "id": "view-in-github",
        "colab_type": "text"
      },
      "source": [
        "<a href=\"https://colab.research.google.com/github/gizemzeynep/bby162/blob/master/adamasmacadenemesi1.ipynb\" target=\"_parent\"><img src=\"https://colab.research.google.com/assets/colab-badge.svg\" alt=\"Open In Colab\"/></a>"
      ]
    },
    {
      "cell_type": "code",
      "metadata": {
        "id": "1Q1veac2xFtI",
        "colab_type": "code",
        "outputId": "6d0b243e-8fd1-414c-8199-daacef7495b4",
        "colab": {
          "base_uri": "https://localhost:8080/",
          "height": 289
        }
      },
      "source": [
        "kelime=input(\"Bulunmasını istediğiniz kelimeyi giriniz: \")\n",
        "can=5\n",
        "while can>=0:\n",
        "    can=can-1\n",
        "    print(\"kalan canınız: \", can)\n",
        "    print(\"Tahmininizi yazınız: \")\n",
        "    tahmin=input()\n",
        "    print(\"girdiğiniz kelime: \", tahmin)\n",
        "    if tahmin==kelime:\n",
        "        print(\"bildiniz\")\n",
        "        break\n",
        "    if tahmin!=kelime:\n",
        "        print(\"tekrar dene.\")\n",
        "\n",
        "    elif can==0:\n",
        "        print(\"kaybettin\")\n",
        "        break\n",
        "\n"
      ],
      "execution_count": 0,
      "outputs": [
        {
          "output_type": "stream",
          "text": [
            "Bulunmasını istediğiniz kelimeyi giriniz: ayakkabı\n",
            "kalan canınız:  4\n",
            "Tahmininizi yazınız: \n",
            "elma\n",
            "girdiğiniz kelime:  elma\n",
            "tekrar dene.\n",
            "kalan canınız:  3\n",
            "Tahmininizi yazınız: \n",
            "elma\n",
            "girdiğiniz kelime:  elma\n",
            "tekrar dene.\n",
            "kalan canınız:  2\n",
            "Tahmininizi yazınız: \n",
            "ayakkabı\n",
            "girdiğiniz kelime:  ayakkabı\n",
            "bildiniz\n"
          ],
          "name": "stdout"
        }
      ]
    }
  ]
}