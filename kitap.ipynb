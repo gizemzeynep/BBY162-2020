{
  "nbformat": 4,
  "nbformat_minor": 0,
  "metadata": {
    "colab": {
      "name": "kitap.ipynb",
      "provenance": [],
      "authorship_tag": "ABX9TyMG6hJnwn9UI9FdKtsLBf/5",
      "include_colab_link": true
    },
    "kernelspec": {
      "name": "python3",
      "display_name": "Python 3"
    }
  },
  "cells": [
    {
      "cell_type": "markdown",
      "metadata": {
        "id": "view-in-github",
        "colab_type": "text"
      },
      "source": [
        "<a href=\"https://colab.research.google.com/github/gizemzeynep/bby162/blob/master/kitap.ipynb\" target=\"_parent\"><img src=\"https://colab.research.google.com/assets/colab-badge.svg\" alt=\"Open In Colab\"/></a>"
      ]
    },
    {
      "cell_type": "code",
      "metadata": {
        "id": "c1t2VzzWOr7K",
        "colab_type": "code",
        "outputId": "f0286059-d94d-4a4b-a016-2c3b76a91397",
        "colab": {
          "base_uri": "https://localhost:8080/",
          "height": 85
        }
      },
      "source": [
        "kitapAdı = \"Masumiyet Müzesi\"\n",
        "kitapAdı2 = \"Yahuda\"\n",
        "kitapAdı3 = \"Aşk\"\n",
        "fıyat = 20\n",
        "fıyat2 = 15\n",
        "fıyat3 = 10\n",
        "butce = 25\n",
        "print(\"Butceniz: \" + str(butce))\n",
        "toplamFıyat = fıyat + fıyat2 + fıyat3\n",
        "print(\"Toplam Fiyat: \" + str(toplamFıyat))\n",
        "sonuc = butce < toplamFıyat\n",
        "print(\"Almak istediğiniz kitap \" + str(kitapAdı) + \" \" + str(fıyat)+ \" TL'dir\")\n",
        "print( \"Alabilir misiniz? \" + str(sonuc))"
      ],
      "execution_count": 15,
      "outputs": [
        {
          "output_type": "stream",
          "text": [
            "Butceniz: 25\n",
            "Toplam Fiyat: 45\n",
            "Almak istediğiniz kitap Masumiyet Müzesi 20 TL'dir\n",
            "Alabilir misiniz? True\n"
          ],
          "name": "stdout"
        }
      ]
    }
  ]
}