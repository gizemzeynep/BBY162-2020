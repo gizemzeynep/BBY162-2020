{
  "nbformat": 4,
  "nbformat_minor": 0,
  "metadata": {
    "colab": {
      "name": "adamasmacayardımlıdeneme1.ipynb",
      "provenance": [],
      "authorship_tag": "ABX9TyNweMcrjDQRYcX4dD0aUqdq",
      "include_colab_link": true
    },
    "kernelspec": {
      "name": "python3",
      "display_name": "Python 3"
    }
  },
  "cells": [
    {
      "cell_type": "markdown",
      "metadata": {
        "id": "view-in-github",
        "colab_type": "text"
      },
      "source": [
        "<a href=\"https://colab.research.google.com/github/gizemzeynep/bby162/blob/master/adamasmacayard%C4%B1ml%C4%B1deneme1.ipynb\" target=\"_parent\"><img src=\"https://colab.research.google.com/assets/colab-badge.svg\" alt=\"Open In Colab\"/></a>"
      ]
    },
    {
      "cell_type": "code",
      "metadata": {
        "id": "8F3qLi_B4KRj",
        "colab_type": "code",
        "colab": {
          "base_uri": "https://localhost:8080/",
          "height": 277
        },
        "outputId": "129551de-bcee-43b7-9ade-174184a6d73c"
      },
      "source": [
        "print(\"Adam asmaca oyununa hoşgeldiniz !!!!!toplamda 5 deneme hakkınız bulunmaktadır...\")\n",
        "kelimeler = [\"ruj\", \"maskara\", \"ananas\",]\n",
        "for kelime in kelimeler:\n",
        "    can = 5\n",
        "    bulunan = \"\"\n",
        "    while True:\n",
        "        for i in kelime:\n",
        "            if i not in bulunan:\n",
        "                print(\"-\", end = \" \")\n",
        "            else:\n",
        "                print(i, end =\" \")\n",
        "        print(\"\\n{} deneme hakkınız kaldı\".format(can))\n",
        "        x = input(\"Lütfen bir harf girin: \")\n",
        "        if (x in kelime) & (x not in bulunan):\n",
        "            if x not in bulunan:\n",
        "                bulunan = bulunan + x\n",
        "        else:\n",
        "            can -= 1\n",
        "        finished = True\n",
        "        for i in kelime:\n",
        "            if i not in bulunan:\n",
        "                finished = False\n",
        "        if finished:\n",
        "            print(\"\\nTebrikler Bildiniz :)\")\n",
        "            tekrar = input(\"\\nTekrar oynamak ister misiniz ? (evet / hayır): \")\n",
        "            if tekrar == \"evet\":\n",
        "                break\n",
        "            else:\n",
        "                exit()\n",
        "        if can == 0:\n",
        "            print(\"\\nAdam asıldı.. Kaybettiniz :(\")\n",
        "            tekrar = input(\"\\nTekrar oynamak ister misiniz ? (evet / hayır): \")\n",
        "            if tekrar == \"evet\":\n",
        "                break"
      ],
      "execution_count": 0,
      "outputs": [
        {
          "output_type": "stream",
          "text": [
            "Adam asmaca oyununa hoşgeldiniz !!!!!toplamda 5 deneme hakkınız bulunmaktadır...\n",
            "- - - \n",
            "5 deneme hakkınız kaldı\n",
            "Lütfen bir harf girin: u\n",
            "- u - \n",
            "5 deneme hakkınız kaldı\n",
            "Lütfen bir harf girin: j\n",
            "- u j \n",
            "5 deneme hakkınız kaldı\n",
            "Lütfen bir harf girin: r\n",
            "\n",
            "Tebrikler Bildiniz :)\n"
          ],
          "name": "stdout"
        }
      ]
    }
  ]
}