{
  "nbformat": 4,
  "nbformat_minor": 0,
  "metadata": {
    "colab": {
      "name": "XML Exercise.ipynb",
      "provenance": [],
      "collapsed_sections": [],
      "authorship_tag": "ABX9TyPVoEAMlC5AWGAFISaD5XIJ",
      "include_colab_link": true
    },
    "kernelspec": {
      "name": "python3",
      "display_name": "Python 3"
    },
    "language_info": {
      "name": "python"
    }
  },
  "cells": [
    {
      "cell_type": "markdown",
      "metadata": {
        "id": "view-in-github",
        "colab_type": "text"
      },
      "source": [
        "<a href=\"https://colab.research.google.com/github/gizemzeynep/BBY162-2020/blob/master/XML_Exercise.ipynb\" target=\"_parent\"><img src=\"https://colab.research.google.com/assets/colab-badge.svg\" alt=\"Open In Colab\"/></a>"
      ]
    },
    {
      "cell_type": "code",
      "execution_count": null,
      "metadata": {
        "id": "L1hSisNxJMbf"
      },
      "outputs": [],
      "source": [
        "<CATALOG>\n",
        "\n",
        "<movie>\n",
        "  <name>Texas Chainsaw Massacre</name>\n",
        "  <directed>David Blue Garcia</directed>\n",
        "  <year>2022</year>\n",
        "  <rating>4.9</rating>\n",
        "  <runtime>1h 23m</runtime>\n",
        "</movie>\n",
        "\n",
        "<movie>\n",
        "  <name>Coherence</name>\n",
        "  <directed>James Ward Byrkit</directed>\n",
        "  <year>2013</year>\n",
        "  <rating>7.2</rating>\n",
        "  <runtime>1h 29m</runtime>\n",
        "</movie>\n",
        "\n",
        "<movie>\n",
        "  <name>About Time</name>\n",
        "  <directed>Richard Curtis</directed>\n",
        "  <year>2013</year>\n",
        "  <rating>7.8</rating>\n",
        "  <runtime>2h 3m</runtime>\n",
        "</movie>\n",
        "\n",
        "<movie>\n",
        "  <name>The Notebook</name>\n",
        "  <directed>DNick Cassavetes</directed>\n",
        "  <year>2004</year>\n",
        "  <rating>7.8</rating>\n",
        "  <runtime>2h 3m</runtime>\n",
        "</movie>\n",
        "\n",
        "<movie>\n",
        "  <name>The Age of Adaline</name>\n",
        "  <directed>Lee Toland Krieger</directed>\n",
        "  <year>2015</year>\n",
        "  <rating>7.2</rating>\n",
        "  <runtime>1h 52m</runtime>\n",
        "</movie>\n",
        "\n",
        "<movie>\n",
        "  <name>Dune: Part One</name>\n",
        "  <directed>Denis Villeneuve</directed>\n",
        "  <year>2021</year>\n",
        "  <rating>8.1</rating>\n",
        "  <runtime>2h 35m</runtime>\n",
        "</movie>\n",
        "\n",
        "<movie>\n",
        "  <name>Red Notice</name>\n",
        "  <directed>Rawson Marshall Thurber</directed>\n",
        "  <year>2021</year>\n",
        "  <rating>6.4</rating>\n",
        "  <runtime>1h 58m</runtime>\n",
        "</movie>\n",
        "\n",
        "<movie>\n",
        "  <name>Spider-Man: No Way Home</name>\n",
        "  <directed>Jon Watts</directed>\n",
        "  <year>2021</year>\n",
        "  <rating>8.7</rating>\n",
        "  <runtime>2h 28m</runtime>\n",
        "</movie>\n",
        "\n",
        "<movie>\n",
        "  <name>Pieces of a Woman</name>\n",
        "  <directed>Denis Villeneuve</directed>\n",
        "  <year>2020</year>\n",
        "  <rating>7.0</rating>\n",
        "  <runtime>2h 6m</runtime>\n",
        "</movie>\n",
        "\n",
        "<movie>\n",
        "  <name>Interstellar</name>\n",
        "  <directed>Christopher Nolan</directed>\n",
        "  <year>2014</year>\n",
        "  <rating>8.7</rating>\n",
        "  <runtime>2h 49m</runtime>\n",
        "</movie>\n",
        "\n",
        "</CATALOG>"
      ]
    }
  ]
}