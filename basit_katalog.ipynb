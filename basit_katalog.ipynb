{
  "nbformat": 4,
  "nbformat_minor": 0,
  "metadata": {
    "colab": {
      "name": "basit_katalog.ipynb",
      "provenance": [],
      "authorship_tag": "ABX9TyNGkufHX4G1Gp95HqTKsJQm",
      "include_colab_link": true
    },
    "kernelspec": {
      "name": "python3",
      "display_name": "Python 3"
    }
  },
  "cells": [
    {
      "cell_type": "markdown",
      "metadata": {
        "id": "view-in-github",
        "colab_type": "text"
      },
      "source": [
        "<a href=\"https://colab.research.google.com/github/gizemzeynep/BBY162-2020/blob/master/basit_katalog.ipynb\" target=\"_parent\"><img src=\"https://colab.research.google.com/assets/colab-badge.svg\" alt=\"Open In Colab\"/></a>"
      ]
    },
    {
      "cell_type": "code",
      "metadata": {
        "id": "tcuFHbJ5gJn8",
        "colab_type": "code",
        "colab": {
          "base_uri": "https://localhost:8080/",
          "height": 243
        },
        "outputId": "96d6b2fe-8e81-48ac-8658-bced9decbc96"
      },
      "source": [
        "from google.colab import drive\n",
        "\n",
        "drive.mount('/gdrive')\n",
        "dosya = \"/gdrive/My Drive/Colab Notebooks/BBY162-2020/kitap__listesi.txt\"\n",
        "print(\"------------------KATALOĞUMA HOŞ GELDİNİZ------------------ \\n\")\n",
        "f = open(dosya, 'r')\n",
        "print(f.read())\n",
        "f = open(dosya, 'a') # Mevcut veriye ek veri yazılması için parametre: 'a'\n",
        "\n",
        "\n",
        "f.write(\"\\n\") # Her yeni verinin bir alt satıra yazdırılması \"test\\n\"\n",
        "\n",
        "kitap_adi=input(\"Kitap Adını Giriniz: \")\n",
        "f.write(kitap_adi+ \" | \" )\n",
        "yazar_adi=input(\"Yazar Adını Giriniz: \")\n",
        "f.write(yazar_adi+ \" | \" )\n",
        "basim_yili=input(\"Basım Yılını Giriniz: \")\n",
        "f.write(basim_yili+ \" | \" )\n",
        "isbn_no=input(\"ISBN Numarasını Giriniz: \")\n",
        "f.write(isbn_no+ \" | \" )\n",
        "yayin_evi=input(\"Yayın Evinin Adını Giriniz: \")\n",
        "f.write(yayin_evi+ \" | \" )\n",
        "\n",
        "print(\"Ekleme Yaptığınız Kitap Bilgileri: \", kitap_adi,\",\" ,yazar_adi,\",\" ,basim_yili,\",\" , isbn_no, \",\" ,yayin_evi)\n",
        "\n",
        "f.close()"
      ],
      "execution_count": 0,
      "outputs": [
        {
          "output_type": "stream",
          "text": [
            "Drive already mounted at /gdrive; to attempt to forcibly remount, call drive.mount(\"/gdrive\", force_remount=True).\n",
            "------------------KATALOĞUMA HOŞ GELDİNİZ------------------ \n",
            "\n",
            "|Kitap Adı | Yazar Adı | ISBN Numarası | Basım Yılı | Yayınevi|\n",
            "--------------------------------------------------------------\n",
            "Masumiyet Müzesi | Orhan Pamuk| 12582052 | 2005 | Can kitapevi\n",
            "Beyaz Geceler | Fyodor Dostoyevski | 7856412 | 2000 | YYK\n",
            "Leonardonun Yahudasi | Leo Perutz | 7845123 | 2001 | KırmızıKedi\n",
            "Göğü Delen Adam | Erich Scheurmann | 8745123 | 1999 | Ayrıntı\n",
            "Sırça Fanus | Sylvia Plath | 845124 | 2003 | KırmızıKedi\n",
            "Ben Robot | Isaac Asimov | 2016 | 845123 | İthaki | \n"
          ],
          "name": "stdout"
        }
      ]
    }
  ]
}